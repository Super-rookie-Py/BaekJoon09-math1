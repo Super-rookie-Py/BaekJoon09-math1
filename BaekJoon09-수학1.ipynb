{
 "cells": [
  {
   "cell_type": "markdown",
   "metadata": {},
   "source": [
    "# 강의노트\n",
    "### 백준 문제 9단계- 수학1\n",
    "#### 2020/04/23 keonwoo park"
   ]
  },
  {
   "cell_type": "markdown",
   "metadata": {},
   "source": [
    "#### 노트북 가격이 C만원으로 책정되었다고 한다. 일반적으로 생산 대수를 늘려 가다 보면 어느 순간 총 수입(판매비용)이 총 비용(=고정비용+가변비용)보다 많아지게 된다. 최초로 총 수입이 총 비용보다 많아져 이익이 발생하는 지점을 손익분기점(BREAK-EVEN POINT)이라고 한다.\n",
    "\n",
    "#### A, B, C가 주어졌을 때, 손익분기점을 구하는 프로그램을 작성하시오."
   ]
  },
  {
   "cell_type": "code",
   "execution_count": 130,
   "metadata": {},
   "outputs": [
    {
     "name": "stdout",
     "output_type": "stream",
     "text": [
      "1000 70 170\n",
      "11\n"
     ]
    }
   ],
   "source": [
    "a, b, c = map(int,input().split())\n",
    "\n",
    "if b>=c:\n",
    "    print(-1)\n",
    "else:\n",
    "    count = a/(c-b)\n",
    "    if count-round(count,0) == 0:\n",
    "        count = count + 1\n",
    "        print(int(count))\n",
    "    elif round(count,0)-count< 0 :\n",
    "        count = round(count,0) + 1\n",
    "        print(int(count))\n",
    "    else:\n",
    "        print(int(round(count,0)))\n",
    "\n",
    "### 숫자가 21억까지 들어갈 수 있다면, 카운트를 1개씩 늘려가면서 개수를 찾으면 \n",
    "### 시간 초과가 걸린다. 더 빨리 직관적으로 값을 도출할 방법을 찾아야함.\n",
    "'''       \n",
    "A, B, C = list(map(int, input().split()))\n",
    "BREAK_EVEN_POINT = 0\n",
    "\n",
    "if(C <= B):\n",
    "    BREAK_EVEN_POINT = -1                      ## 내가 원하는 느낌이 이거였어.. ㅠ 몫에다 +1 하면 되는걸.. 3개로 쪼갰네 열공하자\n",
    "else:\n",
    "    BREAK_EVEN_POINT = A // (C - B) + 1 \n",
    "print(BREAK_EVEN_POINT)\n",
    "'''"
   ]
  },
  {
   "cell_type": "markdown",
   "metadata": {},
   "source": [
    "#### 상근이는 귀찮기 때문에, 최대한 적은 봉지를 들고 가려고 한다. 예를 들어, 18킬로그램 설탕을 배달해야 할 때, 3킬로그램 봉지 6개를 가져가도 되지만, 5킬로그램 3개와 3킬로그램 1개를 배달하면, 더 적은 개수의 봉지를 배달할 수 있다.\n",
    "\n",
    "#### 상근이가 설탕을 정확하게 N킬로그램 배달해야 할 때, 봉지 몇 개를 가져가면 되는지 그 수를 구하는 프로그램을 작성하시오"
   ]
  },
  {
   "cell_type": "code",
   "execution_count": 150,
   "metadata": {},
   "outputs": [
    {
     "name": "stdout",
     "output_type": "stream",
     "text": [
      "5\n",
      "1\n"
     ]
    }
   ],
   "source": [
    "a = int(input())\n",
    "count = 0\n",
    "if a%5 == 0:\n",
    "    count = a/5\n",
    "    print(int(count)\n",
    "else:\n",
    "    while True:\n",
    "        a= a-3\n",
    "        count = count + 1\n",
    "        if a % 5 == 0:\n",
    "            count = count + a / 5\n",
    "            print(int(count))\n",
    "            break\n",
    "        elif a == 0:\n",
    "            print(count)\n",
    "            break\n",
    "        elif a < 0:\n",
    "            print(-1)\n",
    "            break"
   ]
  },
  {
   "cell_type": "markdown",
   "metadata": {},
   "source": [
    "#### 위의 그림과 같이 육각형으로 이루어진 벌집이 있다. 그림에서 보는 바와 같이 중앙의 방 1부터 시작해서 이웃하는 방에 돌아가면서 1씩 증가하는 번호를 주소로 매길 수 있다. 숫자 N이 주어졌을 때, 벌집의 중앙 1에서 N번 방까지 최소 개수의 방을 지나서 갈 때 몇 개의 방을 지나가는지(시작과 끝을 포함하여)를 계산하는 프로그램을 작성하시오. 예를 들면, 13까지는 3개, 58까지는 5개를 지난다.\n",
    "    "
   ]
  },
  {
   "cell_type": "code",
   "execution_count": 183,
   "metadata": {},
   "outputs": [
    {
     "name": "stdout",
     "output_type": "stream",
     "text": [
      "58\n",
      "5\n"
     ]
    }
   ],
   "source": [
    "a = int(input())\n",
    "\n",
    "leng = ((a-1)/3)**0.5\n",
    "print(int(round(leng, 0)+1))"
   ]
  },
  {
   "cell_type": "markdown",
   "metadata": {},
   "source": [
    "#### 이와 같이 나열된 분수들을 1/1 -> 1/2 -> 2/1 -> 3/1 -> 2/2 -> … 과 같은 지그재그 순서로 차례대로 1번, 2번, 3번, 4번, 5번, … 분수라고 하자.\n",
    "\n",
    "#### X가 주어졌을 때, X번째 분수를 구하는 프로그램을 작성하시오."
   ]
  },
  {
   "cell_type": "code",
   "execution_count": 80,
   "metadata": {},
   "outputs": [
    {
     "name": "stdout",
     "output_type": "stream",
     "text": [
      "14\n",
      "2/4\n"
     ]
    }
   ],
   "source": [
    "a = int(input())\n",
    "\n",
    "\n",
    "count = 1\n",
    "result = 1\n",
    "while result <= a:\n",
    "    result = result + count\n",
    "    count = count + 1\n",
    "if count%2 != 0:\n",
    "    print(\"{}/{}\".format(count-(result-a),result-a))\n",
    "else:\n",
    "    print(\"{}/{}\".format(result-a,count-(result-a)))"
   ]
  },
  {
   "cell_type": "markdown",
   "metadata": {},
   "source": [
    "#### 달팽이는 낮에 A미터 올라갈 수 있다. 하지만, 밤에 잠을 자는 동안 B미터 미끄러진다. 또, 정상에 올라간 후에는 미끄러지지 않는다.\n",
    "\n",
    "#### 달팽이가 나무 막대를 모두 올라가려면, 며칠이 걸리는지 구하는 프로그램을 작성하시오"
   ]
  },
  {
   "cell_type": "code",
   "execution_count": 138,
   "metadata": {},
   "outputs": [
    {
     "name": "stdout",
     "output_type": "stream",
     "text": [
      "4\n"
     ]
    }
   ],
   "source": [
    "A, B, V = map(int, input().split())\n",
    "              \n",
    "Day = (V-A)/(A-B)\n",
    "if (V-A)%(A-B) == 0:\n",
    "    print(int(Day)+1)\n",
    "else:\n",
    "    print(((V-A)//(A-B))+2)"
   ]
  },
  {
   "cell_type": "markdown",
   "metadata": {},
   "source": [
    "#### 여러분이 작성할 프로그램은 초기에 모든 방이 비어있다고 가정하에 이 정책에 따라 N 번째로 도착한 손님에게 배정될 방 번호를 계산하는 프로그램이다. 첫 번째 손님은 101 호, 두 번째 손님은 201 호 등과 같이 배정한다. 그림 1 의 경우를 예로 들면, H = 6이므로 10 번째 손님은 402 호에 배정해야 한다."
   ]
  },
  {
   "cell_type": "code",
   "execution_count": 144,
   "metadata": {},
   "outputs": [
    {
     "name": "stdout",
     "output_type": "stream",
     "text": [
      "2\n",
      "6 12 10\n",
      "402\n",
      "30 50 72\n",
      "1203\n"
     ]
    }
   ],
   "source": [
    "a = int(input())\n",
    "\n",
    "for i in range(a):\n",
    "    H, W, N = map(int, input().split())\n",
    "    floor = N%H\n",
    "    room = (N//H)+1\n",
    "    if N%H ==0:\n",
    "        floor = H\n",
    "        room = N//H\n",
    "    if room <10:\n",
    "        print(\"{}0{}\".format(floor,room))\n",
    "    else:\n",
    "        print(\"{}{}\".format(floor,room))"
   ]
  },
  {
   "cell_type": "markdown",
   "metadata": {},
   "source": [
    "#### 아파트에 비어있는 집은 없고 모든 거주민들이 이 계약 조건을 지키고 왔다고 가정했을 때, 주어지는 양의 정수 k와 n에 대해 k층에 n호에는 몇 명이 살고 있는지 출력하라. 단, 아파트에는 0층부터 있고 각층에는 1호부터 있으며, 0층의 i호에는 i명이 산다.\n"
   ]
  },
  {
   "cell_type": "code",
   "execution_count": 34,
   "metadata": {},
   "outputs": [
    {
     "name": "stdout",
     "output_type": "stream",
     "text": [
      "2\n",
      "1\n",
      "3\n",
      "6\n",
      "2\n",
      "3\n",
      "10\n"
     ]
    }
   ],
   "source": [
    "### 시간초과 오리지널 컴비네이션은 돌아가고 빠른건 왜 안돌아가지..\n",
    "a = int(input())\n",
    "\n",
    "def combination(k , n):\n",
    "    if n == 1 or k == -1:\n",
    "        return 1\n",
    "\n",
    "    result = combination(k,n-1)+combination(k-1,n)\n",
    "    return result\n",
    "\n",
    "for i in range(a):\n",
    "    k = int(input())\n",
    "    n = int(input())\n",
    "    print(combination(k,n))\n",
    "    "
   ]
  },
  {
   "cell_type": "code",
   "execution_count": 81,
   "metadata": {},
   "outputs": [
    {
     "name": "stdout",
     "output_type": "stream",
     "text": [
      "2\n",
      "1\n",
      "3\n",
      "6\n",
      "2\n",
      "3\n",
      "10\n"
     ]
    }
   ],
   "source": [
    "### 더 적게걸리는 시간 feat.검색 ㅠ\n",
    "\n",
    "a = int(input())\n",
    "\n",
    "for i in range(a):\n",
    "    k = int(input())\n",
    "    n = int(input())\n",
    "    num = [i for i in range(1, n + 1)]\n",
    "    for _ in range(k):\n",
    "        for j in range(1, n):\n",
    "            num[j] += num[j-1]\n",
    "    print(num[-1])"
   ]
  },
  {
   "cell_type": "markdown",
   "metadata": {},
   "source": [
    "#### 김우현을 위해 x지점부터 정확히 y지점으로 이동하는데 필요한 공간 이동 장치 작동 횟수의 최솟값을 구하는 프로그램을 작성하라."
   ]
  },
  {
   "cell_type": "code",
   "execution_count": 98,
   "metadata": {},
   "outputs": [
    {
     "name": "stdout",
     "output_type": "stream",
     "text": [
      "1\n",
      "0 10\n",
      "5\n"
     ]
    }
   ],
   "source": [
    "a = int(input())\n",
    "\n",
    "for _ in range(a):\n",
    "    x, y = map(int, input().split())\n",
    "    goal = y-x-1\n",
    "    sum_a = 0\n",
    "    count = 1\n",
    "    while sum_a < goal:\n",
    "        sum_a = sum_a + count\n",
    "        count += 1\n",
    "    print(count)\n",
    "## 문제가어렵"
   ]
  }
 ],
 "metadata": {
  "kernelspec": {
   "display_name": "Python 3",
   "language": "python",
   "name": "python3"
  },
  "language_info": {
   "codemirror_mode": {
    "name": "ipython",
    "version": 3
   },
   "file_extension": ".py",
   "mimetype": "text/x-python",
   "name": "python",
   "nbconvert_exporter": "python",
   "pygments_lexer": "ipython3",
   "version": "3.6.2"
  }
 },
 "nbformat": 4,
 "nbformat_minor": 4
}
